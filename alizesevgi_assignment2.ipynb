{
 "cells": [
  {
   "cell_type": "code",
   "execution_count": 1,
   "id": "9921afc0",
   "metadata": {},
   "outputs": [],
   "source": [
    "import breizhcrops\n",
    "from breizhcrops import BreizhCrops\n",
    "import contextily as ctx\n",
    "import matplotlib.pyplot as plt\n",
    "import torch\n",
    "import seaborn as sns\n",
    "import numpy as np\n",
    "import pandas as pd\n",
    "import geopandas as gpd\n",
    "from breizhcrops.datasets.breizhcrops import BANDS as allbands\n",
    "from torch.utils.data import DataLoader\n",
    "import datetime\n",
    "import tensorflow as tf\n",
    "from sklearn.model_selection import train_test_split\n",
    "from sklearn.preprocessing import StandardScaler\n",
    "from tensorflow.keras.models import Sequential\n",
    "from tensorflow.keras.utils import to_categorical\n",
    "from sklearn.model_selection import KFold\n",
    "from scipy.interpolate import interp1d\n",
    "from sklearn.base import TransformerMixin\n",
    "from sklearn.preprocessing import MinMaxScaler\n",
    "from tensorflow.keras.layers import LSTM, Dense, Dropout, LayerNormalization, Bidirectional\n",
    "from sklearn.metrics import accuracy_score, f1_score, cohen_kappa_score\n",
    "from IPython.display import display\n",
    "from sklearn.decomposition import PCA\n",
    "from tensorflow.keras.models import load_model"
   ]
  },
  {
   "cell_type": "code",
   "execution_count": null,
   "id": "d0a8ecc5",
   "metadata": {},
   "outputs": [],
   "source": [
    "#IMPORT"
   ]
  },
  {
   "cell_type": "code",
   "execution_count": 54,
   "id": "38a4c6f0",
   "metadata": {},
   "outputs": [],
   "source": [
    "def raw_transform(input_timeseries):\n",
    "    return input_timeseries"
   ]
  },
  {
   "cell_type": "code",
   "execution_count": 4,
   "id": "22bb91f8",
   "metadata": {},
   "outputs": [],
   "source": [
    "data1 = BreizhCrops(region=\"frh01\", transform=raw_transform, level=\"L2A\")\n",
    "data2 = BreizhCrops(region=\"frh02\", transform=raw_transform, level=\"L2A\")\n",
    "data3 = BreizhCrops(region=\"frh03\", transform=raw_transform, level=\"L2A\")\n",
    "data4 = BreizhCrops(region=\"frh04\", transform=raw_transform, level=\"L2A\")"
   ]
  },
  {
   "cell_type": "code",
   "execution_count": null,
   "id": "ffceea27",
   "metadata": {},
   "outputs": [],
   "source": [
    "#DATAFRAME CREATION"
   ]
  },
  {
   "cell_type": "code",
   "execution_count": 55,
   "id": "d178f322",
   "metadata": {},
   "outputs": [],
   "source": [
    "def simplify_structure(array):\n",
    "    if isinstance(array, np.ndarray) and array.shape == (1,) and isinstance(array[0], np.ndarray):\n",
    "        return array[0]\n",
    "    return array\n",
    "    \n",
    "def dataframe_creation(data):\n",
    "    dataindex = data.index\n",
    "    datadf = dataindex\n",
    "    datadf['time_series'] = [None] * len(datadf)\n",
    "\n",
    "    for i in range(len(datadf)):        \n",
    "        time_series, _, _ = data[i]\n",
    "        datadf.iloc[i, datadf.columns.get_loc('time_series')] = [time_series] #formatting issue: solved by making it a list\n",
    "        \n",
    "    if isinstance(datadf.columns, pd.MultiIndex):\n",
    "        datadf.columns = ['_'.join(map(str, col)).rstrip('_') for col in datadf.columns.values]\n",
    "    print(\"dataframe created\")\n",
    "    \n",
    "    datadf.rename(columns={'Unnamed: 0': 'old_idx'}, inplace=True) #rename to old_idx bc its same as idx which we drop\n",
    "    datadf.reset_index(drop=True, inplace=True) #no idx, so new indexing\n",
    "    \n",
    "    datadf['time_series'] = datadf['time_series'].apply(np.array) #we want time_series to be an array, not a list\n",
    "    \n",
    "#time_series are unnecessarily wrapped so to fix we return inner array: \n",
    "    datadf['time_series'] = datadf['time_series'].apply(simplify_structure)\n",
    "    print(\"simplified\")\n",
    "    return datadf\n",
    "\n",
    "#creating dataframe by joining data.index and time_series\n",
    "#bc the idx column and the rest are on different axes, we flatten by joining level names"
   ]
  },
  {
   "cell_type": "code",
   "execution_count": null,
   "id": "3ddd2388",
   "metadata": {},
   "outputs": [],
   "source": [
    "data1df = dataframe_creation(data1)\n",
    "print(\"data1 digested\")\n",
    "data1df.to_pickle('data1df_1.pkl')\n",
    "print(\"Pickle 1\")\n",
    "\n",
    "data2df = dataframe_creation(data2)\n",
    "print(\"data2 digested\")\n",
    "data2df.to_pickle('data2df_1.pkl')\n",
    "print(\"Pickle 2\")\n",
    "\n",
    "data3df = dataframe_creation(data3)\n",
    "print(\"data3 digested\")\n",
    "data3df.to_pickle('data3df_1.pkl')\n",
    "print(\"Pickle 3\")\n",
    "\n",
    "data4df = dataframe_creation(data4)\n",
    "print(\"data4 digested\")\n",
    "data4df.to_pickle('data4df_1.pkl')\n",
    "print(\"Pickle 4\")"
   ]
  },
  {
   "cell_type": "code",
   "execution_count": 57,
   "id": "c3a41417",
   "metadata": {},
   "outputs": [],
   "source": [
    "target_length = 45 #target_length is decided by looking at the minimum, 45 in paper, 40 in transform github"
   ]
  },
  {
   "cell_type": "code",
   "execution_count": 56,
   "id": "b7eb8ceb",
   "metadata": {},
   "outputs": [],
   "source": [
    "def _3d_check(df):\n",
    "    feature_sizes = set()\n",
    "    non_3d_entries = []\n",
    "    print(count)\n",
    "    for index, series in df['time_series'].items():\n",
    "        if series is not None:\n",
    "            if series.ndim == 3:\n",
    "                feature_sizes.add(series.shape[1])\n",
    "            else:\n",
    "                non_3d_entries.append(index)\n",
    "    print(\"Unique sizes of the second dimension:\", feature_sizes)\n",
    "    if non_3d_entries:\n",
    "        print(\"Entries that are not 3-dimensional are at indices:\", non_3d_entries)\n",
    "    else:\n",
    "        print(\"All entries are 3-dimensional.\")\n",
    "\n",
    "#Bc the minimum is so low, I will interpolate them so that I can have sequence length of 45 afterwards"
   ]
  },
  {
   "cell_type": "code",
   "execution_count": null,
   "id": "5057ea97",
   "metadata": {},
   "outputs": [],
   "source": [
    "data1df[\"time_series\"].iloc[0].shape #3D bc of wrapper while creating"
   ]
  },
  {
   "cell_type": "code",
   "execution_count": 58,
   "id": "80ad3291",
   "metadata": {},
   "outputs": [],
   "source": [
    "def _2d_check(df):\n",
    "    feature_sizes = set()\n",
    "    non_2d_entries = []\n",
    "    for index, series in df['time_series'].items():\n",
    "        if series is not None:\n",
    "            if series.ndim == 2:\n",
    "                feature_sizes.add(series.shape[0])\n",
    "            else:\n",
    "                non_2d_entries.append(index)\n",
    "    print(\"Unique sizes of the second dimension:\", feature_sizes)\n",
    "    if non_2d_entries:\n",
    "        print(\"Entries that are not 2-dimensional are at indices:\", non_2d_entries)\n",
    "    else:\n",
    "        print(\"All entries are 2-dimensional.\")\n"
   ]
  },
  {
   "cell_type": "code",
   "execution_count": null,
   "id": "5a6988b2",
   "metadata": {},
   "outputs": [],
   "source": [
    "#SUBSAMPLE IF LONGER THAN 45"
   ]
  },
  {
   "cell_type": "code",
   "execution_count": 59,
   "id": "00b1816f",
   "metadata": {},
   "outputs": [],
   "source": [
    "def subsample_time_series(time_series):#randomly sub-sample each time series to a number of target_length observations\n",
    "    for sequences in time_series:\n",
    "        num_observations = len(sequences)    \n",
    "\n",
    "        if num_observations <= target_length: #if <= 45, leave it be\n",
    "            sequences = sequences[sequences[:, 0].argsort()] #should already be sorted, just in case\n",
    "            return sequences\n",
    "\n",
    "        #if > 45, subsample down to 45\n",
    "        indices = np.random.choice(num_observations, target_length, replace=False)\n",
    "        sequences = sequences[indices]\n",
    "        sequences = sequences[sequences[:, 0].argsort()] #first element is unixtime, order accordingly\n",
    "    return sequences"
   ]
  },
  {
   "cell_type": "code",
   "execution_count": null,
   "id": "8cfb0d15",
   "metadata": {},
   "outputs": [],
   "source": [
    "#INTERPOLATE IF SHORTER THAN 45"
   ]
  },
  {
   "cell_type": "code",
   "execution_count": 60,
   "id": "9afa81cd",
   "metadata": {},
   "outputs": [],
   "source": [
    "def interpolate_time_series(arrays):\n",
    "    original_length = len(arrays)\n",
    "    \n",
    "    if original_length < target_length:\n",
    "        times = arrays[:, 0]\n",
    "        spectral_data = arrays[:, 1:]\n",
    "\n",
    "        needed_new_times = target_length - original_length\n",
    "\n",
    "        # Generate appropriate new timestamps, no overlap with original\n",
    "        full_times = np.linspace(times.min(), times.max(), num=target_length)\n",
    "        new_times = np.setdiff1d(full_times, times)[:needed_new_times]\n",
    "\n",
    "\n",
    "        interp_func = interp1d(times, spectral_data, kind='linear', axis=0, fill_value=\"extrapolate\")\n",
    "\n",
    "        # Interpolate only at new times\n",
    "        if needed_new_times > 0:\n",
    "            new_spectral_data = interp_func(new_times)\n",
    "            new_full_data = np.column_stack((new_times, new_spectral_data))\n",
    "            combined_data = np.vstack((arrays, new_full_data))\n",
    "        else:\n",
    "            combined_data = arrays\n",
    "\n",
    "\n",
    "        sorted_data = combined_data[np.argsort(combined_data[:, 0])]\n",
    "        arrays = sorted_data\n",
    "\n",
    "    return arrays"
   ]
  },
  {
   "cell_type": "code",
   "execution_count": 61,
   "id": "6ce8df05",
   "metadata": {},
   "outputs": [],
   "source": [
    "def update_seqlength(sequencelength):  #update sequence lengths\n",
    "    return target_length"
   ]
  },
  {
   "cell_type": "code",
   "execution_count": 62,
   "id": "040ce10f",
   "metadata": {},
   "outputs": [],
   "source": [
    "def fix_timeseries(dataframe): #also makes time_series 2D\n",
    "    print(\"Before subsampling: \")\n",
    "    _3d_check(dataframe)\n",
    "    dataframe['time_series'] = dataframe['time_series'].apply(subsample_time_series)\n",
    "    print(\"After subsampling: \")\n",
    "    _d_check(dataframe)\n",
    "    dataframe['time_series'] = dataframe['time_series'].apply(interpolate_time_series)\n",
    "    print(\"After interpolation: \")\n",
    "    _2d_check(dataframe)\n",
    "    dataframe['sequencelength'] = dataframe['sequencelength'].apply(update_seqlength)\n",
    "    print(dataframe.head())\n",
    "    return dataframe\n",
    "\n",
    "        "
   ]
  },
  {
   "cell_type": "code",
   "execution_count": null,
   "id": "e5ef5f2a",
   "metadata": {},
   "outputs": [],
   "source": [
    "#PICKLE BC DATAFRAMES ARE REALLY BIG"
   ]
  },
  {
   "cell_type": "code",
   "execution_count": null,
   "id": "16b83dc5",
   "metadata": {},
   "outputs": [],
   "source": [
    "\n",
    "data1df = dataframe(data1df)\n",
    "print(\"Done 1\")\n",
    "data1df.to_pickle('data1df_2.pkl')\n",
    "print(\"Pickle 1\")\n",
    "data2df = dataframe(data2df)\n",
    "print(\"Done 2\")\n",
    "data2df.to_pickle('data2df_2.pkl')\n",
    "print(\"Pickle 2\")\n",
    "data3df = dataframe(data3df)\n",
    "print(\"Done 3\")\n",
    "data3df.to_pickle('data3df_2.pkl')\n",
    "print(\"Pickle 3\")\n",
    "data4df = dataframe(data4df)\n",
    "print(\"Done 4\")\n",
    "data4df.to_pickle('data4df_2.pkl')\n",
    "print(\"Pickle 4\")\n"
   ]
  },
  {
   "cell_type": "code",
   "execution_count": 17,
   "id": "33ea965d",
   "metadata": {},
   "outputs": [],
   "source": [
    "data1df = pd.read_pickle(\"data1df_2.pkl\")\n",
    "data2df = pd.read_pickle(\"data2df_2.pkl\") \n",
    "data3df = pd.read_pickle(\"data3df_2.pkl\") \n",
    "data4df = pd.read_pickle(\"data4df_2.pkl\") "
   ]
  },
  {
   "cell_type": "code",
   "execution_count": null,
   "id": "0cd89e34",
   "metadata": {},
   "outputs": [],
   "source": [
    "#CREATE FEATURES AND LABELS"
   ]
  },
  {
   "cell_type": "code",
   "execution_count": 64,
   "id": "e2970406",
   "metadata": {},
   "outputs": [],
   "source": [
    "def preprocess_data(time_series_data):\n",
    "    num_samples = len(time_series_data)\n",
    "    num_timesteps = 45\n",
    "    num_features = 13\n",
    "    X = np.zeros((num_samples, num_timesteps, num_features))\n",
    "    for i, series in enumerate(time_series_data):\n",
    "        for t in range(num_timesteps):\n",
    "            X[i, t, :] = series[t][1:]  # Exclude the UNIX timestamp    \n",
    "    return X"
   ]
  },
  {
   "cell_type": "code",
   "execution_count": 28,
   "id": "5de0d0a5",
   "metadata": {},
   "outputs": [],
   "source": [
    "data1x = preprocess_data(data1df['time_series'])\n",
    "np.save(\"data1x.npy\",data1x)\n",
    "data2x = preprocess_data(data2df['time_series'])\n",
    "np.save(\"data2x.npy\",data2x)\n",
    "data3x = preprocess_data(data3df['time_series'])\n",
    "np.save(\"data3x.npy\",data3x)\n",
    "data4x = preprocess_data(data4df['time_series'])\n",
    "np.save(\"data4x.npy\",data4x)"
   ]
  },
  {
   "cell_type": "code",
   "execution_count": 41,
   "id": "c4db783c",
   "metadata": {},
   "outputs": [
    {
     "data": {
      "text/plain": [
       "178632"
      ]
     },
     "execution_count": 41,
     "metadata": {},
     "output_type": "execute_result"
    }
   ],
   "source": [
    "len(data1x)"
   ]
  },
  {
   "cell_type": "code",
   "execution_count": 34,
   "id": "df078cfa",
   "metadata": {},
   "outputs": [],
   "source": [
    "data1y = to_categorical(data1df['classid'], num_classes=9)\n",
    "np.save(\"data1y.npy\",data1y)\n",
    "data2y = to_categorical(data2df['classid'], num_classes=9)\n",
    "np.save(\"data2y.npy\",data2y)\n",
    "data3y = to_categorical(data3df['classid'], num_classes=9)\n",
    "np.save(\"data3y.npy\",data3y)\n",
    "data4y = to_categorical(data4df['classid'], num_classes=9)\n",
    "np.save(\"data4y.npy\",data4y)"
   ]
  },
  {
   "cell_type": "code",
   "execution_count": null,
   "id": "67419fa3",
   "metadata": {},
   "outputs": [],
   "source": [
    "#PART1 : LSTM MODEL"
   ]
  },
  {
   "cell_type": "code",
   "execution_count": 63,
   "id": "a19899de",
   "metadata": {},
   "outputs": [],
   "source": [
    "def load_data(fold, folds):\n",
    "    \n",
    "    X_train, y_train = [], []\n",
    "    X_test, y_test = [], []\n",
    "\n",
    "    fold_train = folds[fold]['train']\n",
    "    fold_test= folds[fold]['test']\n",
    "\n",
    "    for dataset_name in fold_train:\n",
    "        x_all = np.load(f\"{dataset_name}x.npy\")\n",
    "        y_all = np.load(f\"{dataset_name}y.npy\")\n",
    "        X_train.append(x_all)\n",
    "        y_train.append(y_all)\n",
    "\n",
    "\n",
    "    for dataset_name in fold_test:\n",
    "        x_all = np.load(f\"{dataset_name}x.npy\")\n",
    "        y_all = np.load(f\"{dataset_name}y.npy\")\n",
    "        X_test.append(x_all)\n",
    "        y_test.append(y_all)\n",
    "    \n",
    "    # Convert lists to numpy arrays\n",
    "    X_train = np.concatenate(X_train, axis=0)\n",
    "    y_train = np.concatenate(y_train, axis=0)\n",
    "    X_test = np.concatenate(X_test, axis=0)\n",
    "    y_test = np.concatenate(y_test, axis=0)\n",
    "\n",
    "\n",
    "    # Reshape for scaling\n",
    "    X_train_reshaped = X_train.reshape(-1, num_features)\n",
    "    X_test_reshaped = X_test.reshape(-1, num_features)\n",
    "\n",
    "    # Scale the data\n",
    "    scaler = StandardScaler()\n",
    "    X_train_scaled = scaler.fit_transform(X_train_reshaped)\n",
    "    X_test_scaled = scaler.transform(X_test_reshaped)\n",
    "\n",
    "    # Reshape back to the original shape\n",
    "    X_train = X_train_scaled.reshape(len(X_train), 45, 13)\n",
    "    X_test = X_test_scaled.reshape(len(X_test), 45, 13)\n",
    "    \n",
    "    return X_train, y_train, X_test, y_test\n",
    "\n"
   ]
  },
  {
   "cell_type": "code",
   "execution_count": 47,
   "id": "9f3002ec",
   "metadata": {},
   "outputs": [],
   "source": [
    "folds = {\n",
    "    1: {'train': ['data1', 'data2', 'data3'], 'test': ['data4']},\n",
    "    2: {'train': ['data1', 'data2', 'data4'], 'test': ['data3']},\n",
    "    3: {'train': ['data1', 'data3', 'data4'], 'test': ['data2']},\n",
    "    4: {'train': ['data2', 'data3', 'data4'], 'test': ['data1']},\n",
    "}"
   ]
  },
  {
   "cell_type": "code",
   "execution_count": 16,
   "id": "7c789306",
   "metadata": {},
   "outputs": [],
   "source": [
    "def build_model():\n",
    "    \n",
    "    model = Sequential()\n",
    "    \n",
    "    model.add(LSTM(128, return_sequences=True, input_shape=(45, 13)))  \n",
    "    model.add(Dropout(0.2))  \n",
    "    model.add(LSTM(128, return_sequences=True))\n",
    "    model.add(Dropout(0.2))\n",
    "    model.add(LSTM(128, return_sequences=False))  \n",
    "    model.add(Dropout(0.2))\n",
    "    \n",
    "    model.add(Dense(9, activation='softmax'))\n",
    "    model.compile(optimizer='adam', loss='categorical_crossentropy', metrics=['accuracy'])\n",
    "    \n",
    "    return model\n",
    "    \n",
    "\n"
   ]
  },
  {
   "cell_type": "code",
   "execution_count": 50,
   "id": "556d3a79",
   "metadata": {},
   "outputs": [],
   "source": [
    "def train_and_evaluate_model(folds):\n",
    "    results = {}\n",
    "    for fold in folds:\n",
    "        print(f\"Training on Fold {fold}\")\n",
    "        X_train, y_train, X_test, y_test = load_data(fold, folds)\n",
    "        model = build_model()\n",
    "        \n",
    "        model.fit(X_train, y_train, epochs=10, batch_size=64)\n",
    "        print(f\"Evaluating on Fold {fold}\")\n",
    "        y_pred = model.predict(X_test)\n",
    "        y_pred_labels = np.argmax(y_pred, axis=1)\n",
    "        y_test_labels = np.argmax(y_test, axis=1)\n",
    "\n",
    "        np.savetxt(f'predictions_fold_{fold}.txt', y_pred_labels, fmt='%d')\n",
    "        model.save(f'model_fold_{fold}.h5')\n",
    "\n",
    "        overall_accuracy = accuracy_score(y_test_labels, y_pred_labels)\n",
    "        average_accuracy = np.mean([accuracy_score(y_test_labels == i, y_pred_labels == i) for i in range(9)])\n",
    "        weighted_fscore = f1_score(y_test_labels, y_pred_labels, average='weighted')\n",
    "        kappa_metric = cohen_kappa_score(y_test_labels, y_pred_labels)\n",
    "\n",
    "        results[fold] = {\n",
    "            'Overall Accuracy': overall_accuracy,\n",
    "            'Average Accuracy': average_accuracy,\n",
    "            'Weighted F-score': weighted_fscore,\n",
    "            'Kappa Metric': kappa_metric\n",
    "        }\n",
    "        \n",
    "    return results"
   ]
  },
  {
   "cell_type": "code",
   "execution_count": 49,
   "id": "8d898ca9",
   "metadata": {},
   "outputs": [],
   "source": [
    "def display_results(results):\n",
    "    results_df = pd.DataFrame(results).T\n",
    "    results_df.index.name = 'Fold'\n",
    "    results_df.to_csv('results_summary.csv')\n",
    "    "
   ]
  },
  {
   "cell_type": "code",
   "execution_count": null,
   "id": "fb967a21",
   "metadata": {},
   "outputs": [],
   "source": [
    "results = train_and_evaluate_model(folds)\n",
    "display_results(results)"
   ]
  },
  {
   "cell_type": "code",
   "execution_count": null,
   "id": "0b83cc98",
   "metadata": {},
   "outputs": [],
   "source": [
    "#PART 2: BASELINE"
   ]
  },
  {
   "cell_type": "code",
   "execution_count": 33,
   "id": "12dd2c1a",
   "metadata": {},
   "outputs": [],
   "source": [
    "def create_splits(dataset_name):\n",
    "    x_all = np.load(f\"{dataset_name}x.npy\")\n",
    "    y_all = np.load(f\"{dataset_name}y.npy\")\n",
    "    \n",
    "    X_train, X_test, y_train, y_test = train_test_split(x_all, y_all, test_size=0.6, random_state=42)\n",
    "    \n",
    "    np.save(f\"{dataset_name}_60x.npy\", X_test)\n",
    "    np.save(f\"{dataset_name}_40x.npy\", X_train)\n",
    "    np.save(f\"{dataset_name}_60y.npy\", y_test)\n",
    "    np.save(f\"{dataset_name}_40y.npy\", y_train)\n"
   ]
  },
  {
   "cell_type": "code",
   "execution_count": 34,
   "id": "89d59f0c",
   "metadata": {},
   "outputs": [],
   "source": [
    "datasets = ['data1', 'data2', 'data3', 'data4']\n",
    "for dataset in datasets:\n",
    "    create_splits(dataset)"
   ]
  },
  {
   "cell_type": "code",
   "execution_count": 13,
   "id": "12191c53",
   "metadata": {},
   "outputs": [],
   "source": [
    "upper_lower_folds = {\n",
    "    \"Upper\": {\n",
    "        1: {'train': ['data4_40'], 'test': ['data4_60']},\n",
    "        2: {'train': ['data3_40'], 'test': ['data3_60']},\n",
    "        3: {'train': ['data2_40'], 'test': ['data2_60']},\n",
    "        4: {'train': ['data1_40'], 'test': ['data1_60']},\n",
    "    },\n",
    "    \"Lower\": {\n",
    "        1: {'train': ['data1', 'data2', 'data3'], 'test': ['data4_60']},\n",
    "        2: {'train': ['data1', 'data2', 'data4'], 'test': ['data3_60']},\n",
    "        3: {'train': ['data1', 'data3', 'data4'], 'test': ['data2_60']},\n",
    "        4: {'train': ['data2', 'data3', 'data4'], 'test': ['data1_60']},\n",
    "    }\n",
    "}"
   ]
  },
  {
   "cell_type": "code",
   "execution_count": null,
   "id": "83e18069",
   "metadata": {},
   "outputs": [],
   "source": [
    "def train_and_evaluate_baseline(folds, mode=\"Upper\"):\n",
    "    results = {}\n",
    "    for fold in folds[mode]:\n",
    "        print(f\"Training on Fold {fold} ({mode} Mode)\")\n",
    "        X_train, y_train, X_test, y_test = load_data(fold, folds[mode])\n",
    "        model = build_model()\n",
    "        \n",
    "        model.fit(X_train, y_train, epochs=10, batch_size=64)\n",
    "        print(f\"Evaluating on Fold {fold} ({mode} Mode)\")\n",
    "        y_pred = model.predict(X_test)\n",
    "        y_pred_labels = np.argmax(y_pred, axis=1)\n",
    "        y_test_labels = np.argmax(y_test, axis=1)\n",
    "\n",
    "        np.savetxt(f'predictions_fold_{fold}_{mode}.txt', y_pred_labels, fmt='%d')\n",
    "        model.save(f'model_fold_{fold}_{mode}.h5')\n",
    "\n",
    "        overall_accuracy = accuracy_score(y_test_labels, y_pred_labels)\n",
    "        average_accuracy = np.mean([accuracy_score(y_test_labels == i, y_pred_labels == i) for i in range(9)])\n",
    "        weighted_fscore = f1_score(y_test_labels, y_pred_labels, average='weighted')\n",
    "        kappa_metric = cohen_kappa_score(y_test_labels, y_pred_labels)\n",
    "\n",
    "        results[fold] = {\n",
    "            'Overall Accuracy': overall_accuracy,\n",
    "            'Average Accuracy': average_accuracy,\n",
    "            'Weighted F-score': weighted_fscore,\n",
    "            'Kappa Metric': kappa_metric\n",
    "        }\n",
    "        \n",
    "    return results"
   ]
  },
  {
   "cell_type": "code",
   "execution_count": null,
   "id": "589fda03",
   "metadata": {},
   "outputs": [],
   "source": [
    "def display_results2(results):\n",
    "    results_df = pd.DataFrame(results).T\n",
    "    results_df.index.name = 'Fold'\n",
    "    results_df.to_csv('upper_again.csv')\n",
    "    "
   ]
  },
  {
   "cell_type": "code",
   "execution_count": null,
   "id": "3e698a5e",
   "metadata": {},
   "outputs": [],
   "source": [
    "def display_results3(results):\n",
    "    results_df = pd.DataFrame(results).T\n",
    "    results_df.index.name = 'Fold'\n",
    "    results_df.to_csv('lower_again.csv')\n",
    "    "
   ]
  },
  {
   "cell_type": "code",
   "execution_count": null,
   "id": "c429aed0",
   "metadata": {},
   "outputs": [],
   "source": [
    "upper_results = train_and_evaluate_baseline(upper_lower_folds, mode=\"Upper\")\n",
    "display_results2(upper_results)\n",
    "\n",
    "\n",
    "lower_results = train_and_evaluate_baseline(upper_lower_folds, mode=\"Lower\")\n",
    "display_results3(lower_results)"
   ]
  },
  {
   "cell_type": "code",
   "execution_count": null,
   "id": "a6252d78",
   "metadata": {},
   "outputs": [],
   "source": [
    "#PART 3: DANN"
   ]
  },
  {
   "cell_type": "code",
   "execution_count": 46,
   "id": "71fd0a89",
   "metadata": {},
   "outputs": [],
   "source": [
    "@tf.custom_gradient\n",
    "def reverse_gradient(x, hp_lambda):\n",
    "    \"\"\"\n",
    "    Flips the sign of the incoming gradient during backpropagation.\n",
    "    :param x:         Input tensor\n",
    "    :param hp_lambda: Hyper-parameter lambda (c.f. DANN paper), i.e. an updatable \n",
    "                      coefficient applied to the reversed gradient\n",
    "    :return:          Input tensor with reverse gradient (+ function to compute this reversed gradient)\n",
    "    \"\"\"\n",
    "    \n",
    "    # Feed-forward operation:\n",
    "    y = tf.identity(x)\n",
    "    \n",
    "    # Back-propagation/gradient-computing operation:\n",
    "    def _flip_gradient(dy):\n",
    "        # Since the decorated function `reverse_gradient()` actually has 2 inputs \n",
    "        # (counting `hp_lambda), we have to return the gradient for each -- but\n",
    "        # anyway, the derivative w.r.t `hp_lambda` is null:\n",
    "        return tf.math.negative(dy) * hp_lambda, tf.constant(0.)\n",
    "    \n",
    "    return y, _flip_gradient"
   ]
  },
  {
   "cell_type": "code",
   "execution_count": 47,
   "id": "5a0c47fe",
   "metadata": {},
   "outputs": [],
   "source": [
    "class GradientReversal(tf.keras.layers.Layer):\n",
    "    '''Flip the sign of gradient during training.'''\n",
    "\n",
    "    def __init__(self, hp_lambda, **kwargs):\n",
    "        super().__init__(**kwargs)\n",
    "        self.hp_lambda = hp_lambda\n",
    "\n",
    "    def call(self, inputs, training=None):\n",
    "        return reverse_gradient(inputs, self.hp_lambda)\n",
    "\n",
    "    def get_config(self):\n",
    "        config = super().get_config()\n",
    "        config['hp_lambda'] = self.hp_lambda\n",
    "        return config\n",
    "\n",
    "    @classmethod\n",
    "    def from_config(cls, config):\n",
    "        return cls(**config)"
   ]
  },
  {
   "cell_type": "code",
   "execution_count": 48,
   "id": "41b9a521",
   "metadata": {},
   "outputs": [],
   "source": [
    "def build_dann_model(input_shape=(45, 13), num_classes=9, num_domains=4, hp_lambda=1.0):\n",
    "    inputs = Input(shape=input_shape)\n",
    "    x = LSTM(128, return_sequences=True)(inputs)\n",
    "    x = Dropout(0.2)(x)\n",
    "    x = LSTM(128, return_sequences=True)(x)\n",
    "    x = Dropout(0.2)(x)\n",
    "    features = LSTM(128, return_sequences=False)(x)\n",
    "    features = Dropout(0.2)(features)\n",
    "    \n",
    "    class_preds = Dense(num_classes, activation='softmax', name='class_preds')(features)\n",
    "    \n",
    "    domain_input = GradientReversal(hp_lambda)(features)\n",
    "    x = Dense(128, activation='relu')(domain_input)\n",
    "    x = Dropout(0.5)(x)\n",
    "    domain_preds = Dense(num_domains, activation='softmax', name='domain_preds')(x)\n",
    "    \n",
    "    model = Model(inputs=inputs, outputs=[class_preds, domain_preds])\n",
    "    \n",
    "    return model"
   ]
  },
  {
   "cell_type": "code",
   "execution_count": 53,
   "id": "e425f770",
   "metadata": {},
   "outputs": [],
   "source": [
    "data_lengths = {\n",
    "    'data1': 178632,  \n",
    "    'data2': 140782,\n",
    "    'data3': 166367,\n",
    "    'data4': 122708,\n",
    "    'data4_80': 98167,\n",
    "    'data3_80' :133094,\n",
    "    'data2_80' : 112626,\n",
    "    'data1_80': 142906,\n",
    "    'data4_60' : 73625,\n",
    "    'data3_60' : 99821,\n",
    "    'data2_60' : 84470,\n",
    "    'data1_60' : 107180,\n",
    "} #needed to create domain_labels_train and test"
   ]
  },
  {
   "cell_type": "code",
   "execution_count": 22,
   "id": "afd91680",
   "metadata": {},
   "outputs": [],
   "source": [
    "def train_and_evaluate_dann(folds, mode=\"Lower\", hp_lambda=1.0):\n",
    "    results = {}\n",
    "    domain_results = {}\n",
    "\n",
    "    for fold in folds[mode]:\n",
    "        print(f\"dann Training on Fold {fold} ({mode} Mode)\")\n",
    "        X_train, y_train, X_test, y_test = load_data(fold, folds[mode])\n",
    "        \n",
    "        num_domains = 4\n",
    "        num_samples_train = X_train.shape[0]\n",
    "        num_samples_test = X_test.shape[0]\n",
    "\n",
    "        train_datasets = folds[mode][fold]['train']\n",
    "        test_datasets = folds[mode][fold]['test']\n",
    "        \n",
    "        domain_labels_train = []\n",
    "        for dataset in train_datasets:\n",
    "            domain_idx = int(dataset[-1]) - 1  # dataset names end with domain number\n",
    "            domain_labels_train.append(np.full((data_lengths[dataset], 1), domain_idx))\n",
    "        domain_labels_train = np.concatenate(domain_labels_train, axis=0)\n",
    "\n",
    "        domain_labels_test = []\n",
    "        for dataset in test_datasets:\n",
    "            base_dataset = dataset.split('_')[0]  # Extract base dataset name\n",
    "            domain_idx = int(base_dataset[-1]) - 1  # Extract domain index\n",
    "            domain_labels_test.append(np.full((data_lengths[dataset], 1), domain_idx)) \n",
    "        domain_labels_test = np.concatenate(domain_labels_test, axis=0)\n",
    "\n",
    "\n",
    "        domain_labels_train = tf.keras.utils.to_categorical(domain_labels_train, num_classes=num_domains)\n",
    "        domain_labels_test = tf.keras.utils.to_categorical(domain_labels_test, num_classes=num_domains)\n",
    "\n",
    "        print(f\"X_train shape: {X_train.shape}, y_train shape: {y_train.shape}\")\n",
    "        print(f\"X_test shape: {X_test.shape}, y_test shape: {y_test.shape}\")\n",
    "        print(f\"domain_labels_train shape: {domain_labels_train.shape}, domain_labels_test shape: {domain_labels_test.shape}\")\n",
    "\n",
    "        if X_train.shape[0] != domain_labels_train.shape[0]:\n",
    "            domain_labels_train = np.vstack([domain_labels_train, domain_labels_train[0]])\n",
    "\n",
    "        assert X_train.shape[0] == y_train.shape[0] == domain_labels_train.shape[0], \"Shape mismatch in training data\"\n",
    "        assert X_test.shape[0] == y_test.shape[0] == domain_labels_test.shape[0], \"Shape mismatch in test data\"\n",
    "\n",
    "        model = build_dann_model(input_shape=(45, 13), num_classes=9, num_domains=num_domains, hp_lambda=hp_lambda)\n",
    "        model.compile(optimizer=Adam(), \n",
    "                      loss={'class_preds': CategoricalCrossentropy(), 'domain_preds': CategoricalCrossentropy()},\n",
    "                      metrics={'class_preds': 'accuracy', 'domain_preds': 'accuracy'})\n",
    "\n",
    "        model.fit(X_train, {'class_preds': y_train, 'domain_preds': domain_labels_train}, epochs=10, batch_size=64)\n",
    "\n",
    "        y_pred, domain_pred = model.predict(X_test)\n",
    "        y_pred_labels = np.argmax(y_pred, axis=1)\n",
    "        y_test_labels = np.argmax(y_test, axis=1)\n",
    "\n",
    "        domain_pred_labels = np.argmax(domain_pred, axis=1)\n",
    "        domain_test_labels = np.argmax(domain_labels_test, axis=1)\n",
    "\n",
    "        np.savetxt(f'dannpredictions_fold_{fold}_{mode}.txt', y_pred_labels, fmt='%d')\n",
    "        np.savetxt(f'danndomainpreds_fold_{fold}_{mode}.txt', domain_pred_labels, fmt='%d')\n",
    "        model.save(f'dannmodel_fold_{fold}_{mode}.h5')\n",
    "\n",
    "        overall_accuracy = accuracy_score(y_test_labels, y_pred_labels)\n",
    "        average_accuracy = np.mean([accuracy_score(y_test_labels == i, y_pred_labels == i) for i in range(9)])\n",
    "        weighted_fscore = f1_score(y_test_labels, y_pred_labels, average='weighted')\n",
    "        kappa_metric = cohen_kappa_score(y_test_labels, y_pred_labels)\n",
    "\n",
    "        domain_accuracy = accuracy_score(domain_test_labels, domain_pred_labels)\n",
    "        \n",
    "        results[fold] = {\n",
    "            'Overall Accuracy': overall_accuracy,\n",
    "            'Average Accuracy': average_accuracy,\n",
    "            'Weighted F-score': weighted_fscore,\n",
    "            'Kappa Metric': kappa_metric\n",
    "        }\n",
    "\n",
    "        domain_results[fold] = {\n",
    "            'Domain Accuracy': domain_accuracy\n",
    "        }\n",
    "    \n",
    "    pd.DataFrame(domain_results).T.to_csv('domain_results_summary.csv')\n",
    "    \n",
    "    return results\n",
    "\n",
    " \n",
    "\n",
    "\n"
   ]
  },
  {
   "cell_type": "code",
   "execution_count": 23,
   "id": "22272327",
   "metadata": {},
   "outputs": [],
   "source": [
    "def display_results4(results):\n",
    "    results_df = pd.DataFrame(results).T\n",
    "    results_df.index.name = 'Fold'\n",
    "    results_df.to_csv('results_dann_summary.csv')\n",
    "    print(results_df)"
   ]
  },
  {
   "cell_type": "code",
   "execution_count": null,
   "id": "e6c580b5",
   "metadata": {},
   "outputs": [],
   "source": [
    "# Evaluate with DANN (Lower Mode)\n",
    "dann_results = train_and_evaluate_dann(upper_lower_folds, mode=\"Lower\")\n",
    "display_results4(dann_results)"
   ]
  },
  {
   "cell_type": "code",
   "execution_count": null,
   "id": "5d0f2f74",
   "metadata": {},
   "outputs": [],
   "source": [
    "#RESULTS"
   ]
  },
  {
   "cell_type": "code",
   "execution_count": 3,
   "id": "ad6aedec",
   "metadata": {},
   "outputs": [
    {
     "data": {
      "text/html": [
       "<div>\n",
       "<style scoped>\n",
       "    .dataframe tbody tr th:only-of-type {\n",
       "        vertical-align: middle;\n",
       "    }\n",
       "\n",
       "    .dataframe tbody tr th {\n",
       "        vertical-align: top;\n",
       "    }\n",
       "\n",
       "    .dataframe thead th {\n",
       "        text-align: right;\n",
       "    }\n",
       "</style>\n",
       "<table border=\"1\" class=\"dataframe\">\n",
       "  <thead>\n",
       "    <tr style=\"text-align: right;\">\n",
       "      <th></th>\n",
       "      <th>Fold</th>\n",
       "      <th>Overall Accuracy</th>\n",
       "      <th>Average Accuracy</th>\n",
       "      <th>Weighted F-score</th>\n",
       "      <th>Kappa Metric</th>\n",
       "    </tr>\n",
       "  </thead>\n",
       "  <tbody>\n",
       "    <tr>\n",
       "      <th>0</th>\n",
       "      <td>1</td>\n",
       "      <td>0.811357</td>\n",
       "      <td>0.958079</td>\n",
       "      <td>0.800956</td>\n",
       "      <td>0.751689</td>\n",
       "    </tr>\n",
       "    <tr>\n",
       "      <th>1</th>\n",
       "      <td>2</td>\n",
       "      <td>0.801926</td>\n",
       "      <td>0.955984</td>\n",
       "      <td>0.800150</td>\n",
       "      <td>0.741494</td>\n",
       "    </tr>\n",
       "    <tr>\n",
       "      <th>2</th>\n",
       "      <td>3</td>\n",
       "      <td>0.803256</td>\n",
       "      <td>0.956279</td>\n",
       "      <td>0.797245</td>\n",
       "      <td>0.743776</td>\n",
       "    </tr>\n",
       "    <tr>\n",
       "      <th>3</th>\n",
       "      <td>4</td>\n",
       "      <td>0.829364</td>\n",
       "      <td>0.962081</td>\n",
       "      <td>0.830086</td>\n",
       "      <td>0.783737</td>\n",
       "    </tr>\n",
       "  </tbody>\n",
       "</table>\n",
       "</div>"
      ],
      "text/plain": [
       "   Fold  Overall Accuracy  Average Accuracy  Weighted F-score  Kappa Metric\n",
       "0     1          0.811357          0.958079          0.800956      0.751689\n",
       "1     2          0.801926          0.955984          0.800150      0.741494\n",
       "2     3          0.803256          0.956279          0.797245      0.743776\n",
       "3     4          0.829364          0.962081          0.830086      0.783737"
      ]
     },
     "metadata": {},
     "output_type": "display_data"
    }
   ],
   "source": [
    "results_df = pd.read_csv('results_summary.csv')\n",
    "display(results_df)"
   ]
  },
  {
   "cell_type": "code",
   "execution_count": 57,
   "id": "83426a96",
   "metadata": {},
   "outputs": [
    {
     "data": {
      "text/html": [
       "<div>\n",
       "<style scoped>\n",
       "    .dataframe tbody tr th:only-of-type {\n",
       "        vertical-align: middle;\n",
       "    }\n",
       "\n",
       "    .dataframe tbody tr th {\n",
       "        vertical-align: top;\n",
       "    }\n",
       "\n",
       "    .dataframe thead th {\n",
       "        text-align: right;\n",
       "    }\n",
       "</style>\n",
       "<table border=\"1\" class=\"dataframe\">\n",
       "  <thead>\n",
       "    <tr style=\"text-align: right;\">\n",
       "      <th></th>\n",
       "      <th>Fold</th>\n",
       "      <th>Overall Accuracy</th>\n",
       "      <th>Average Accuracy</th>\n",
       "      <th>Weighted F-score</th>\n",
       "      <th>Kappa Metric</th>\n",
       "    </tr>\n",
       "  </thead>\n",
       "  <tbody>\n",
       "    <tr>\n",
       "      <th>0</th>\n",
       "      <td>1</td>\n",
       "      <td>0.808829</td>\n",
       "      <td>0.957517</td>\n",
       "      <td>0.801871</td>\n",
       "      <td>0.749127</td>\n",
       "    </tr>\n",
       "    <tr>\n",
       "      <th>1</th>\n",
       "      <td>2</td>\n",
       "      <td>0.813005</td>\n",
       "      <td>0.958446</td>\n",
       "      <td>0.807170</td>\n",
       "      <td>0.754602</td>\n",
       "    </tr>\n",
       "    <tr>\n",
       "      <th>2</th>\n",
       "      <td>3</td>\n",
       "      <td>0.811495</td>\n",
       "      <td>0.958110</td>\n",
       "      <td>0.808970</td>\n",
       "      <td>0.755063</td>\n",
       "    </tr>\n",
       "    <tr>\n",
       "      <th>3</th>\n",
       "      <td>4</td>\n",
       "      <td>0.839018</td>\n",
       "      <td>0.964226</td>\n",
       "      <td>0.837874</td>\n",
       "      <td>0.794876</td>\n",
       "    </tr>\n",
       "  </tbody>\n",
       "</table>\n",
       "</div>"
      ],
      "text/plain": [
       "   Fold  Overall Accuracy  Average Accuracy  Weighted F-score  Kappa Metric\n",
       "0     1          0.808829          0.957517          0.801871      0.749127\n",
       "1     2          0.813005          0.958446          0.807170      0.754602\n",
       "2     3          0.811495          0.958110          0.808970      0.755063\n",
       "3     4          0.839018          0.964226          0.837874      0.794876"
      ]
     },
     "metadata": {},
     "output_type": "display_data"
    }
   ],
   "source": [
    "upperresults_df = pd.read_csv('upper_again.csv')\n",
    "display(upperresults_df)"
   ]
  },
  {
   "cell_type": "code",
   "execution_count": 56,
   "id": "0b40f7c2",
   "metadata": {},
   "outputs": [
    {
     "data": {
      "text/html": [
       "<div>\n",
       "<style scoped>\n",
       "    .dataframe tbody tr th:only-of-type {\n",
       "        vertical-align: middle;\n",
       "    }\n",
       "\n",
       "    .dataframe tbody tr th {\n",
       "        vertical-align: top;\n",
       "    }\n",
       "\n",
       "    .dataframe thead th {\n",
       "        text-align: right;\n",
       "    }\n",
       "</style>\n",
       "<table border=\"1\" class=\"dataframe\">\n",
       "  <thead>\n",
       "    <tr style=\"text-align: right;\">\n",
       "      <th></th>\n",
       "      <th>Fold</th>\n",
       "      <th>Overall Accuracy</th>\n",
       "      <th>Average Accuracy</th>\n",
       "      <th>Weighted F-score</th>\n",
       "      <th>Kappa Metric</th>\n",
       "    </tr>\n",
       "  </thead>\n",
       "  <tbody>\n",
       "    <tr>\n",
       "      <th>0</th>\n",
       "      <td>1</td>\n",
       "      <td>0.813053</td>\n",
       "      <td>0.958456</td>\n",
       "      <td>0.805246</td>\n",
       "      <td>0.754561</td>\n",
       "    </tr>\n",
       "    <tr>\n",
       "      <th>1</th>\n",
       "      <td>2</td>\n",
       "      <td>0.802056</td>\n",
       "      <td>0.956012</td>\n",
       "      <td>0.789205</td>\n",
       "      <td>0.739132</td>\n",
       "    </tr>\n",
       "    <tr>\n",
       "      <th>2</th>\n",
       "      <td>3</td>\n",
       "      <td>0.797786</td>\n",
       "      <td>0.955064</td>\n",
       "      <td>0.788374</td>\n",
       "      <td>0.736217</td>\n",
       "    </tr>\n",
       "    <tr>\n",
       "      <th>3</th>\n",
       "      <td>4</td>\n",
       "      <td>0.830379</td>\n",
       "      <td>0.962306</td>\n",
       "      <td>0.831136</td>\n",
       "      <td>0.784749</td>\n",
       "    </tr>\n",
       "  </tbody>\n",
       "</table>\n",
       "</div>"
      ],
      "text/plain": [
       "   Fold  Overall Accuracy  Average Accuracy  Weighted F-score  Kappa Metric\n",
       "0     1          0.813053          0.958456          0.805246      0.754561\n",
       "1     2          0.802056          0.956012          0.789205      0.739132\n",
       "2     3          0.797786          0.955064          0.788374      0.736217\n",
       "3     4          0.830379          0.962306          0.831136      0.784749"
      ]
     },
     "metadata": {},
     "output_type": "display_data"
    }
   ],
   "source": [
    "lowerresults_df = pd.read_csv('lower_again.csv')\n",
    "display(lowerresults_df)"
   ]
  },
  {
   "cell_type": "code",
   "execution_count": 4,
   "id": "e0c6bd71",
   "metadata": {},
   "outputs": [
    {
     "data": {
      "text/html": [
       "<div>\n",
       "<style scoped>\n",
       "    .dataframe tbody tr th:only-of-type {\n",
       "        vertical-align: middle;\n",
       "    }\n",
       "\n",
       "    .dataframe tbody tr th {\n",
       "        vertical-align: top;\n",
       "    }\n",
       "\n",
       "    .dataframe thead th {\n",
       "        text-align: right;\n",
       "    }\n",
       "</style>\n",
       "<table border=\"1\" class=\"dataframe\">\n",
       "  <thead>\n",
       "    <tr style=\"text-align: right;\">\n",
       "      <th></th>\n",
       "      <th>Fold</th>\n",
       "      <th>Overall Accuracy</th>\n",
       "      <th>Average Accuracy</th>\n",
       "      <th>Weighted F-score</th>\n",
       "      <th>Kappa Metric</th>\n",
       "    </tr>\n",
       "  </thead>\n",
       "  <tbody>\n",
       "    <tr>\n",
       "      <th>0</th>\n",
       "      <td>1</td>\n",
       "      <td>0.813929</td>\n",
       "      <td>0.958651</td>\n",
       "      <td>0.808071</td>\n",
       "      <td>0.755615</td>\n",
       "    </tr>\n",
       "    <tr>\n",
       "      <th>1</th>\n",
       "      <td>2</td>\n",
       "      <td>0.804236</td>\n",
       "      <td>0.956497</td>\n",
       "      <td>0.804014</td>\n",
       "      <td>0.745159</td>\n",
       "    </tr>\n",
       "    <tr>\n",
       "      <th>2</th>\n",
       "      <td>3</td>\n",
       "      <td>0.788983</td>\n",
       "      <td>0.953107</td>\n",
       "      <td>0.774427</td>\n",
       "      <td>0.724648</td>\n",
       "    </tr>\n",
       "    <tr>\n",
       "      <th>3</th>\n",
       "      <td>4</td>\n",
       "      <td>0.833744</td>\n",
       "      <td>0.963054</td>\n",
       "      <td>0.834084</td>\n",
       "      <td>0.788972</td>\n",
       "    </tr>\n",
       "  </tbody>\n",
       "</table>\n",
       "</div>"
      ],
      "text/plain": [
       "   Fold  Overall Accuracy  Average Accuracy  Weighted F-score  Kappa Metric\n",
       "0     1          0.813929          0.958651          0.808071      0.755615\n",
       "1     2          0.804236          0.956497          0.804014      0.745159\n",
       "2     3          0.788983          0.953107          0.774427      0.724648\n",
       "3     4          0.833744          0.963054          0.834084      0.788972"
      ]
     },
     "metadata": {},
     "output_type": "display_data"
    }
   ],
   "source": [
    "dannresults_df = pd.read_csv('results_dann_summary.csv')\n",
    "display(dannresults_df)"
   ]
  },
  {
   "cell_type": "code",
   "execution_count": 3,
   "id": "285532ff",
   "metadata": {},
   "outputs": [
    {
     "data": {
      "text/html": [
       "<div>\n",
       "<style scoped>\n",
       "    .dataframe tbody tr th:only-of-type {\n",
       "        vertical-align: middle;\n",
       "    }\n",
       "\n",
       "    .dataframe tbody tr th {\n",
       "        vertical-align: top;\n",
       "    }\n",
       "\n",
       "    .dataframe thead th {\n",
       "        text-align: right;\n",
       "    }\n",
       "</style>\n",
       "<table border=\"1\" class=\"dataframe\">\n",
       "  <thead>\n",
       "    <tr style=\"text-align: right;\">\n",
       "      <th></th>\n",
       "      <th>Unnamed: 0</th>\n",
       "      <th>Domain Accuracy</th>\n",
       "    </tr>\n",
       "  </thead>\n",
       "  <tbody>\n",
       "    <tr>\n",
       "      <th>0</th>\n",
       "      <td>1</td>\n",
       "      <td>0.0</td>\n",
       "    </tr>\n",
       "    <tr>\n",
       "      <th>1</th>\n",
       "      <td>2</td>\n",
       "      <td>0.0</td>\n",
       "    </tr>\n",
       "    <tr>\n",
       "      <th>2</th>\n",
       "      <td>3</td>\n",
       "      <td>0.0</td>\n",
       "    </tr>\n",
       "    <tr>\n",
       "      <th>3</th>\n",
       "      <td>4</td>\n",
       "      <td>0.0</td>\n",
       "    </tr>\n",
       "  </tbody>\n",
       "</table>\n",
       "</div>"
      ],
      "text/plain": [
       "   Unnamed: 0  Domain Accuracy\n",
       "0           1              0.0\n",
       "1           2              0.0\n",
       "2           3              0.0\n",
       "3           4              0.0"
      ]
     },
     "metadata": {},
     "output_type": "display_data"
    }
   ],
   "source": [
    "domainresults_df = pd.read_csv('domain_results_summary.csv')\n",
    "display(domainresults_df)"
   ]
  },
  {
   "cell_type": "code",
   "execution_count": 22,
   "id": "c4cb222e",
   "metadata": {},
   "outputs": [],
   "source": [
    "num_features = 13"
   ]
  },
  {
   "cell_type": "code",
   "execution_count": null,
   "id": "af612fb8",
   "metadata": {},
   "outputs": [],
   "source": [
    "def get_last_lstm_layer(model):\n",
    "    lstm_layers = [layer for layer in model.layers if isinstance(layer, tf.keras.layers.LSTM)]\n",
    "    if not lstm_layers:\n",
    "        raise ValueError(\"No LSTM layers found in the model.\")\n",
    "    return lstm_layers[-1]"
   ]
  },
  {
   "cell_type": "code",
   "execution_count": null,
   "id": "96615e84",
   "metadata": {},
   "outputs": [],
   "source": [
    "all_features = []\n",
    "all_domain_labels = []\n",
    "\n",
    "for fold in lowers:\n",
    "    X_train, y_train, X_test, y_test = load_data(fold, lowers)\n",
    "    model_path = f'dannmodel_fold_{fold}_Lower.h5'\n",
    "    model = load_model(model_path, custom_objects={'GradientReversal': GradientReversal, 'Orthogonal': Orthogonal})\n",
    "\n",
    "    # Get the last LSTM layer dynamically\n",
    "    last_lstm_layer = get_last_lstm_layer(model)\n",
    "\n",
    "    # Extract features using the last LSTM layer\n",
    "    feature_extractor = tf.keras.Model(inputs=model.input, outputs=last_lstm_layer.output)\n",
    "    features = feature_extractor.predict(X_test)\n",
    "\n",
    "    all_features.append(features)\n",
    "    all_domain_labels.append(np.full((features.shape[0],), fold))\n",
    "\n",
    "all_features = np.concatenate(all_features, axis=0)\n",
    "all_domain_labels = np.concatenate(all_domain_labels, axis=0)\n",
    "np.save(\"all_features.npy\", all_features)\n",
    "np.save(\"all_domain_labels\", all_domain_labels)"
   ]
  },
  {
   "cell_type": "code",
   "execution_count": 59,
   "id": "65382450",
   "metadata": {},
   "outputs": [],
   "source": [
    "all_features = np.load(\"all_features.npy\")\n",
    "all_domain_labels = np.load(\"all_domain_labels.npy\")"
   ]
  },
  {
   "cell_type": "code",
   "execution_count": 62,
   "id": "236a1e38",
   "metadata": {},
   "outputs": [
    {
     "data": {
      "image/png": "[encoded data removed]",
      "text/plain": [
       "<Figure size 1000x600 with 1 Axes>"
      ]
     },
     "metadata": {},
     "output_type": "display_data"
    }
   ],
   "source": [
    "pca = PCA(n_components=2)\n",
    "pca_features = pca.fit_transform(all_features)\n",
    "\n",
    "# Manually assign colors to the 4 domains\n",
    "domain_colors = {1: 'red', 2: 'blue', 3: 'green', 4: 'purple'}\n",
    "domain_color_list = [domain_colors[label] for label in all_domain_labels]\n",
    "\n",
    "# Plot\n",
    "plt.figure(figsize=(10, 6))\n",
    "scatter = plt.scatter(pca_features[:, 0], pca_features[:, 1], c=domain_color_list)\n",
    "handles = [plt.Line2D([0], [0], marker='o', color='w', markerfacecolor=color, markersize=10) for color in domain_colors.values()]\n",
    "labels = [f'Domain {i}' for i in domain_colors.keys()]\n",
    "plt.legend(handles, labels, title=\"Domains\")\n",
    "plt.xlabel('PCA Component 1')\n",
    "plt.ylabel('PCA Component 2')\n",
    "plt.show()\n"
   ]
  },
  {
   "cell_type": "code",
   "execution_count": null,
   "id": "b8910132",
   "metadata": {},
   "outputs": [],
   "source": []
  }
 ],
 "metadata": {
  "kernelspec": {
   "display_name": "Python 3 (ipykernel)",
   "language": "python",
   "name": "python3"
  },
  "language_info": {
   "codemirror_mode": {
    "name": "ipython",
    "version": 3
   },
   "file_extension": ".py",
   "mimetype": "text/x-python",
   "name": "python",
   "nbconvert_exporter": "python",
   "pygments_lexer": "ipython3",
   "version": "3.11.5"
  }
 },
 "nbformat": 4,
 "nbformat_minor": 5
}
